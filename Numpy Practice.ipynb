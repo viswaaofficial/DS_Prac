{
 "cells": [
  {
   "cell_type": "markdown",
   "id": "e4463e19",
   "metadata": {},
   "source": [
    "\n",
    "<center> <h1> <u>NUMPY PRACTICE QUESTIONS </h1> </center> </u> <br/>\n",
    "<b>\n",
    "1.\tGenerate a tuple from the set [\"aman\", \"222\", 777, 400.4] <br/>\n",
    "2.\tCreate a dictionary of your basic data : (a) Roll No (b) Last Name (c) First Name (d) Date of birth. Print out the values and keys. <br/>\n",
    "3.\tUse rand function to generate a 2-dimensional random array with seed.<br/>\n",
    "4.\tGenerate a single random number in [0.0, 1.0].Find the absolute value of (-1234)<br/>\n",
    "5.\tReturn a random integer N such that 20 <= N <= 90. <br/>\n",
    "6.\tGiven a population or set[11, 12, 13,14, 15] <br/>\n",
    "o\tReturn a 3 length list of unique elements without replacement.<br/>\n",
    "o\tShuffle the above set<br/>\n",
    "o\tPrint a random number from the set<br/>\n",
    "7.\tWrite the text \"The King is Dead, Long Live The King\" on to a file in your hard drive; read and print the text.<br/>\n",
    "8.\tCreate an illustrative function to demonstrate use of: if, elif and else (b) for, while, break and continue. <br/>\n",
    "9.\tGiven a string \"The King is Dead, Long Live The King\" <br/>\n",
    "o\tPrint the complete string<br/>\n",
    "o\tPrint first character of the string<br/>\n",
    "o\tPrint characters starting from 3rd to 5th<br/>\n",
    "o\tPrint string starting from 3rd character<br/>\n",
    "o\tSplit the words<br/>\n",
    "10.\tAn array can be created from a list:  Create an array from a list comprising of numbers 1,4,5,8 (treat them as floats).Slice the above array to display first and second elements<br/>\n",
    "11.\tArrays can be multidimensional. Create a two-dimensional array of (1,2,3) and (4,5,6).<br/>\n",
    "12.\tArray slicing works with multiple dimensions in the same way as usual, applying each slice specification as a filter to a specified dimension.Consider two-dimensional array of (1,2,3) and (4,5,6).<br/>\n",
    "o\tSlice and display the 2nd row.<br/>\n",
    "o\tWrite code to display as array([2., 5.]) <br/>\n",
    "o\tFind the length of the array.<br/>\n",
    "13.\tArrays can be reshaped using tuples that specify new dimensions. Turn a ten-element one-dimensional array into a two-dimensional one whose first axis has five elements and whose second axis has two elements. Obtain the transpose of the array<br/>\n",
    "14.\tCreate an array from a list of 1,2 and 3.<br/>\n",
    "15.\tFill an array [1,2,3] with a single value [9,9,9]. <br/>\n",
    "16.\tSum the elements of array [2,4,5].<br/>\n",
    "17.\tGive the products of array [77,74,75]<br/>\n",
    "18.\tGiven an array [2,1,9,1,2,22,1,1,4,55,6,2,56]. Find mean, variance, max, min, argmin, median, argmax and standard deviation.<br/>\n",
    "19.\tExtract unique elements from an array: [1, 1, 4, 5, 5, 5, 7] and sort it.<br/>\n",
    "20.\tFind dot product of two arrays [1, 2, 3]and [0, 1, 1].<br/>\n",
    "21.\tFind the eigenvalues and eigenvectors of matrix A.<br/>\n",
    "22.\tGiven an array with [11, 22, 11, 31], [25, 33, 31, 28]]. Treat as floats. Find the correlation coefficients.<br/>\n",
    "</b>"
   ]
  },
  {
   "cell_type": "code",
   "execution_count": 208,
   "id": "52c82389",
   "metadata": {},
   "outputs": [],
   "source": [
    "import pandas as pd\n",
    "import numpy as np"
   ]
  },
  {
   "cell_type": "code",
   "execution_count": 59,
   "id": "4dddb32f",
   "metadata": {},
   "outputs": [
    {
     "name": "stdout",
     "output_type": "stream",
     "text": [
      "('aman', '222', 777, 400.4)\n"
     ]
    }
   ],
   "source": [
    "a=[\"aman\", \"222\", 777, 400.4]\n",
    "print(tuple(a))"
   ]
  },
  {
   "cell_type": "code",
   "execution_count": 61,
   "id": "69836bc3",
   "metadata": {},
   "outputs": [
    {
     "name": "stdout",
     "output_type": "stream",
     "text": [
      "{'Roll.No': 'CN.EN.U4CSE21468', 'Last_Name': 'Ramasubramanian', 'First_Name': 'Viswaa', 'DOB': '07-11-2003'}\n"
     ]
    }
   ],
   "source": [
    "a={\"Roll.No\":\"CN.EN.U4CSE21468\",\"Last_Name\":\"Ramasubramanian\",\"First_Name\":\"Viswaa\",\"DOB\":\"07-11-2003\"}\n",
    "print(a)"
   ]
  },
  {
   "cell_type": "code",
   "execution_count": 72,
   "id": "bd65a9fb",
   "metadata": {},
   "outputs": [
    {
     "name": "stdout",
     "output_type": "stream",
     "text": [
      "[[2 3]\n",
      " [3 3]\n",
      " [3 3]\n",
      " [2 3]\n",
      " [3 3]]\n"
     ]
    }
   ],
   "source": [
    "a=np.random.randint(2,4,(5,2))\n",
    "print(a)"
   ]
  },
  {
   "cell_type": "code",
   "execution_count": 91,
   "id": "8bdbbb5a",
   "metadata": {},
   "outputs": [
    {
     "name": "stdout",
     "output_type": "stream",
     "text": [
      "0.9741037452664022\n"
     ]
    }
   ],
   "source": [
    "a=np.random.ranf()\n",
    "print(a)"
   ]
  },
  {
   "cell_type": "code",
   "execution_count": 93,
   "id": "81dafa29",
   "metadata": {},
   "outputs": [
    {
     "data": {
      "text/plain": [
       "1234"
      ]
     },
     "execution_count": 93,
     "metadata": {},
     "output_type": "execute_result"
    }
   ],
   "source": [
    "a=np.absolute(-1234)\n",
    "a"
   ]
  },
  {
   "cell_type": "code",
   "execution_count": 95,
   "id": "a58fd5a8",
   "metadata": {},
   "outputs": [
    {
     "data": {
      "text/plain": [
       "54"
      ]
     },
     "execution_count": 95,
     "metadata": {},
     "output_type": "execute_result"
    }
   ],
   "source": [
    "a=np.random.randint(20,91)\n",
    "a"
   ]
  },
  {
   "cell_type": "code",
   "execution_count": 102,
   "id": "f6d47d81",
   "metadata": {},
   "outputs": [
    {
     "data": {
      "text/plain": [
       "[13, 14, 11]"
      ]
     },
     "execution_count": 102,
     "metadata": {},
     "output_type": "execute_result"
    }
   ],
   "source": [
    "#Given a population or set[11, 12, 13,14, 15] \n",
    "#Return a 3 length list of unique elements without replacement.\n",
    "a=np.array([11,12,13,14,15])\n",
    "b=np.random.choice(a,size=3,replace=False)\n",
    "list(b)"
   ]
  },
  {
   "cell_type": "code",
   "execution_count": 105,
   "id": "98236ee7",
   "metadata": {},
   "outputs": [
    {
     "data": {
      "text/plain": [
       "array([12, 15, 11, 14, 13])"
      ]
     },
     "execution_count": 105,
     "metadata": {},
     "output_type": "execute_result"
    }
   ],
   "source": [
    "#Shuffle the above set\n",
    "c=np.random.permutation(a)\n",
    "c"
   ]
  },
  {
   "cell_type": "code",
   "execution_count": 110,
   "id": "0fe575f5",
   "metadata": {},
   "outputs": [
    {
     "data": {
      "text/plain": [
       "14"
      ]
     },
     "execution_count": 110,
     "metadata": {},
     "output_type": "execute_result"
    }
   ],
   "source": [
    "#Print a random number from the set\n",
    "d=np.random.choice(a)\n",
    "d"
   ]
  },
  {
   "cell_type": "code",
   "execution_count": 129,
   "id": "aacdcb9b",
   "metadata": {},
   "outputs": [],
   "source": [
    "# Write the text \"The King is Dead, Long Live The King\" on to a file in your hard drive; read and print the text.\n",
    "a=pd.read_csv(\"C:\\\\Users\\\\viswa\\\\Data Science and ML\\\\Datasets\\\\DS Datasets\\\\practice.txt\")"
   ]
  },
  {
   "cell_type": "code",
   "execution_count": 130,
   "id": "33288cb0",
   "metadata": {},
   "outputs": [
    {
     "data": {
      "text/plain": [
       "pandas.core.frame.DataFrame"
      ]
     },
     "execution_count": 130,
     "metadata": {},
     "output_type": "execute_result"
    }
   ],
   "source": [
    "type(a)"
   ]
  },
  {
   "cell_type": "code",
   "execution_count": 131,
   "id": "e3e94584",
   "metadata": {},
   "outputs": [
    {
     "data": {
      "text/html": [
       "<div>\n",
       "<style scoped>\n",
       "    .dataframe tbody tr th:only-of-type {\n",
       "        vertical-align: middle;\n",
       "    }\n",
       "\n",
       "    .dataframe tbody tr th {\n",
       "        vertical-align: top;\n",
       "    }\n",
       "\n",
       "    .dataframe thead th {\n",
       "        text-align: right;\n",
       "    }\n",
       "</style>\n",
       "<table border=\"1\" class=\"dataframe\">\n",
       "  <thead>\n",
       "    <tr style=\"text-align: right;\">\n",
       "      <th></th>\n",
       "      <th>The King is Dead</th>\n",
       "      <th>Long Live The King</th>\n",
       "    </tr>\n",
       "  </thead>\n",
       "  <tbody>\n",
       "  </tbody>\n",
       "</table>\n",
       "</div>"
      ],
      "text/plain": [
       "Empty DataFrame\n",
       "Columns: [The King is Dead,  Long Live The King]\n",
       "Index: []"
      ]
     },
     "execution_count": 131,
     "metadata": {},
     "output_type": "execute_result"
    }
   ],
   "source": [
    "a"
   ]
  },
  {
   "cell_type": "code",
   "execution_count": 141,
   "id": "5aa52245",
   "metadata": {},
   "outputs": [
    {
     "name": "stdout",
     "output_type": "stream",
     "text": [
      "The King is Dead, Long Live The King\n",
      "T\n",
      "e K\n",
      "e King is Dead, Long Live The King\n",
      "['The', 'King', 'is', 'Dead,', 'Long', 'Live', 'The', 'King']\n"
     ]
    }
   ],
   "source": [
    "#Q9\n",
    "a=\"The King is Dead, Long Live The King\"\n",
    "print(a)\n",
    "print(a[0],end=\"\\n\")\n",
    "print(a[2:5])\n",
    "print(a[2:])\n",
    "a=a.split(\" \")\n",
    "print(a)"
   ]
  },
  {
   "cell_type": "code",
   "execution_count": 145,
   "id": "0791ec32",
   "metadata": {},
   "outputs": [
    {
     "data": {
      "text/plain": [
       "array([1., 4., 5., 8.], dtype=float32)"
      ]
     },
     "execution_count": 145,
     "metadata": {},
     "output_type": "execute_result"
    }
   ],
   "source": [
    "a=[1,4,5,8]\n",
    "b=np.array(a,dtype=\"float32\")\n",
    "b"
   ]
  },
  {
   "cell_type": "code",
   "execution_count": 156,
   "id": "af58f03f",
   "metadata": {},
   "outputs": [
    {
     "name": "stdout",
     "output_type": "stream",
     "text": [
      "[4 5 6]\n",
      "[2. 5.]\n",
      "2\n",
      "(2, 3)\n"
     ]
    }
   ],
   "source": [
    "a=np.array([[1,2,3],[4,5,6]])\n",
    "\n",
    "print(a[1])\n",
    "\n",
    "b=np.array([a[0][1],a[1][1]],dtype=\"float32\")\n",
    "print(b)\n",
    "\n",
    "print(len(a))\n",
    "print(a.shape)"
   ]
  },
  {
   "cell_type": "code",
   "execution_count": 167,
   "id": "e122da8e",
   "metadata": {},
   "outputs": [
    {
     "name": "stdout",
     "output_type": "stream",
     "text": [
      "[ 1  2  3  4  5  6  7  8  9 10]\n",
      "(10,)\n",
      "\n",
      "[[ 1  2]\n",
      " [ 3  4]\n",
      " [ 5  6]\n",
      " [ 7  8]\n",
      " [ 9 10]]\n",
      "(5, 2)\n",
      "\n",
      "[[ 1  3  5  7  9]\n",
      " [ 2  4  6  8 10]]\n",
      "(2, 5)\n"
     ]
    }
   ],
   "source": [
    "#Arrays can be reshaped using tuples that specify new dimensions. Turn a ten-element one-dimensional array into a two-dimensional one whose first axis has five elements and whose second axis has two elements. Obtain the transpose of the array\n",
    "a=np.arange(1,11)\n",
    "print(a)\n",
    "print(a.shape)\n",
    "print()\n",
    "b=np.reshape(a,(5,2))\n",
    "print(b)\n",
    "print(b.shape)\n",
    "print()\n",
    "c=np.transpose(b)\n",
    "print(c)\n",
    "print(c.shape)"
   ]
  },
  {
   "cell_type": "code",
   "execution_count": 172,
   "id": "b6b3e48d",
   "metadata": {},
   "outputs": [
    {
     "data": {
      "text/plain": [
       "array([9, 9, 9])"
      ]
     },
     "execution_count": 172,
     "metadata": {},
     "output_type": "execute_result"
    }
   ],
   "source": [
    "#Fill an array [1,2,3] with a single value [9,9,9]. \n",
    "a=[1,2,3]\n",
    "b=np.full_like(a,9)\n",
    "b"
   ]
  },
  {
   "cell_type": "code",
   "execution_count": 174,
   "id": "fdbe488e",
   "metadata": {},
   "outputs": [
    {
     "name": "stdout",
     "output_type": "stream",
     "text": [
      "11\n",
      "40\n"
     ]
    }
   ],
   "source": [
    "a=np.array([2,4,5])\n",
    "print(np.sum(a))\n",
    "print(np.prod(a))"
   ]
  },
  {
   "cell_type": "code",
   "execution_count": 185,
   "id": "5be70b42",
   "metadata": {},
   "outputs": [
    {
     "name": "stdout",
     "output_type": "stream",
     "text": [
      "12.461538461538462\n",
      "367.32544378698225\n",
      "56\n",
      "1\n",
      "1\n",
      "2.0\n",
      "12\n",
      "19.165736192147232\n"
     ]
    }
   ],
   "source": [
    "a=np.array([2,1,9,1,2,22,1,1,4,55,6,2,56])\n",
    "print(np.mean(a))\n",
    "print(np.var(a))\n",
    "print(np.max(a))\n",
    "print(np.min(a))\n",
    "print(np.argmin(a))\n",
    "print(np.median(a))\n",
    "print(np.argmax(a))\n",
    "print(np.std(a))"
   ]
  },
  {
   "cell_type": "code",
   "execution_count": 190,
   "id": "f476a673",
   "metadata": {},
   "outputs": [
    {
     "data": {
      "text/plain": [
       "array([1, 4, 5, 7])"
      ]
     },
     "execution_count": 190,
     "metadata": {},
     "output_type": "execute_result"
    }
   ],
   "source": [
    "#Extract unique elements from an array: [1, 1, 4, 5, 5, 5, 7] and sort it.\n",
    "a=np.array([[1, 1, 4, 5, 5, 5, 7]])\n",
    "b=np.unique(a)\n",
    "b=np.sort(b)\n",
    "b"
   ]
  },
  {
   "cell_type": "code",
   "execution_count": 194,
   "id": "f5f0d3fc",
   "metadata": {},
   "outputs": [
    {
     "name": "stdout",
     "output_type": "stream",
     "text": [
      "5\n"
     ]
    }
   ],
   "source": [
    "a=np.array([1,2,3])\n",
    "b=np.array([0,1,1])\n",
    "c=np.dot(a,b)\n",
    "print(c)"
   ]
  },
  {
   "cell_type": "code",
   "execution_count": 204,
   "id": "27ed98cd",
   "metadata": {},
   "outputs": [
    {
     "name": "stdout",
     "output_type": "stream",
     "text": [
      "[ 1.61168440e+01 -1.11684397e+00 -4.22209278e-16]\n",
      "\n",
      "[[-0.23197069 -0.78583024  0.40824829]\n",
      " [-0.52532209 -0.08675134 -0.81649658]\n",
      " [-0.8186735   0.61232756  0.40824829]]\n"
     ]
    }
   ],
   "source": [
    "#Find the eigenvalues and eigenvectors of matrix A.\n",
    "a=np.matrix([[1,2,3],[4,5,6],[7,8,9]])\n",
    "b,c=np.linalg.eig(a)\n",
    "print(b)\n",
    "print()\n",
    "print(c)"
   ]
  },
  {
   "cell_type": "code",
   "execution_count": 207,
   "id": "cf0fd4f9",
   "metadata": {},
   "outputs": [
    {
     "name": "stdout",
     "output_type": "stream",
     "text": [
      "[[1.         0.15997968]\n",
      " [0.15997968 1.        ]]\n"
     ]
    }
   ],
   "source": [
    "#Given an array with [11, 22, 11, 31], [25, 33, 31, 28]]. Treat as floats. Find the correlation coefficients.\n",
    "a=np.array([11, 22, 11, 31])\n",
    "b=np.array([25, 33, 31, 28])\n",
    "c=np.corrcoef(a,b)\n",
    "print(c)"
   ]
  }
 ],
 "metadata": {
  "kernelspec": {
   "display_name": "Python 3 (ipykernel)",
   "language": "python",
   "name": "python3"
  },
  "language_info": {
   "codemirror_mode": {
    "name": "ipython",
    "version": 3
   },
   "file_extension": ".py",
   "mimetype": "text/x-python",
   "name": "python",
   "nbconvert_exporter": "python",
   "pygments_lexer": "ipython3",
   "version": "3.11.3"
  }
 },
 "nbformat": 4,
 "nbformat_minor": 5
}
