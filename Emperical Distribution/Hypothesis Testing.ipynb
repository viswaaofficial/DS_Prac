{
 "cells": [
  {
   "cell_type": "markdown",
   "id": "2586f45d",
   "metadata": {},
   "source": [
    "<b>  HYPOTHESIS TESTING </b>"
   ]
  },
  {
   "cell_type": "code",
   "execution_count": 14,
   "id": "33ff0a58",
   "metadata": {},
   "outputs": [
    {
     "name": "stdout",
     "output_type": "stream",
     "text": [
      "Z Score :  2.3963768301424544\n",
      "Z value for significance level : 1.959963984540054\n",
      "Scenario 1: Reject the null hypothesis\n",
      "P Value:  0.01655805747016359\n",
      "Scenario 1: Reject the null hypothesis\n"
     ]
    }
   ],
   "source": [
    "import numpy as np\n",
    "from scipy import stats\n",
    "sample_mean_1 = 65.10\n",
    "population_std_dev = 13.46\n",
    "sample_size_1 = 40\n",
    "population_mean_1 = 60\n",
    "alpha_1 = 0.05\n",
    "z_score_1 = (sample_mean_1 - population_mean_1) / (population_std_dev / np.sqrt(sample_size_1))\n",
    "z_critical_1 = stats.norm.ppf(1 - alpha_1/2)  # Two-tailed test\n",
    "print(\"Z Score : \",z_score_1)\n",
    "print(\"Z value for significance level :\",z_critical_1)\n",
    "if abs(z_score_1) > z_critical_1:\n",
    "    print(\"Scenario 1: Reject the null hypothesis\")\n",
    "else:\n",
    "    print(\"Scenario 1: Fail to reject the null hypothesis\")\n",
    "    \n",
    "# p test\n",
    "p_value_1 = 2 * (1 - stats.norm.cdf(abs(z_score_1)))\n",
    "print(\"P Value: \",p_value_1)\n",
    "if p_value_1 < alpha_1:\n",
    "    print(\"Scenario 1: Reject the null hypothesis\")\n",
    "else:\n",
    "    print(\"Scenario 1: Fail to reject the null hypothesis\")"
   ]
  },
  {
   "cell_type": "code",
   "execution_count": 13,
   "id": "bd99b5ff",
   "metadata": {},
   "outputs": [
    {
     "name": "stdout",
     "output_type": "stream",
     "text": [
      "0.7429420505200593\n",
      "2.796939504772804\n",
      "Scenario 2: Fail to reject the null hypothesis\n",
      "P Value :  0.010000000000038423\n",
      "Scenario 2: Fail to reject the null hypothesis\n"
     ]
    }
   ],
   "source": [
    "# Scenario 2\n",
    "sample_size_2 = 25\n",
    "sample_mean_2 = 62\n",
    "alpha_2 = 0.01\n",
    "t_statistic_2 = (sample_mean_2 - population_mean_1) / (population_std_dev / np.sqrt(sample_size_2))\n",
    "df_2 = sample_size_2 - 1\n",
    "t_critical_2 = stats.t.ppf(1 - alpha_2 / 2, df_2)  # Two-tailed test\n",
    "print(t_statistic_2)\n",
    "print(t_critical_2)\n",
    "if abs(t_statistic_2) > t_critical_2:\n",
    "    print(\"Scenario 2: Reject the null hypothesis\")\n",
    "else:\n",
    "    print(\"Scenario 2: Fail to reject the null hypothesis\")\n",
    "    \n",
    "# P test\n",
    "p_value_2 = 2 * (1 - stats.t.cdf(abs(t_critical_2),df_2))\n",
    "print(\"P Value : \",p_value_2)\n",
    "if p_value_2 < alpha_2:\n",
    "    print(\"Scenario 2: Reject the null hypothesis\")\n",
    "else:\n",
    "    print(\"Scenario 2: Fail to reject the null hypothesis\")"
   ]
  }
 ],
 "metadata": {
  "kernelspec": {
   "display_name": "Python 3 (ipykernel)",
   "language": "python",
   "name": "python3"
  },
  "language_info": {
   "codemirror_mode": {
    "name": "ipython",
    "version": 3
   },
   "file_extension": ".py",
   "mimetype": "text/x-python",
   "name": "python",
   "nbconvert_exporter": "python",
   "pygments_lexer": "ipython3",
   "version": "3.11.3"
  }
 },
 "nbformat": 4,
 "nbformat_minor": 5
}
