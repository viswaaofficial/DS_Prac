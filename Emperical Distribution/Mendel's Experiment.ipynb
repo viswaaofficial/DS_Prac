{
 "cells": [
  {
   "cell_type": "markdown",
   "id": "830ada4f",
   "metadata": {},
   "source": [
    "<b> Null hypothesis </b> <br/>\n",
    "Here Null Hypothesis is the percentage of purple flowers is 75% <br/>\n",
    "percentage == 75% of 929 i.e 696.75"
   ]
  },
  {
   "cell_type": "markdown",
   "id": "30ba32cf",
   "metadata": {},
   "source": [
    "<b> Alternate hypothesis </b> <br/>\n",
    "Here as per experiment it can be found that Number of purple flowers is 705\n",
    "<br/>\n",
    "percentage != 75%"
   ]
  },
  {
   "cell_type": "markdown",
   "id": "790369ea",
   "metadata": {},
   "source": [
    "<b> Test Statistic </b> <br/>\n",
    "Here the test statistic is the Number/Percentage of purple flowers"
   ]
  },
  {
   "cell_type": "code",
   "execution_count": 32,
   "id": "786df331",
   "metadata": {},
   "outputs": [],
   "source": [
    "ec = [0.25,0.75]"
   ]
  },
  {
   "cell_type": "code",
   "execution_count": 2,
   "id": "8539bd61",
   "metadata": {},
   "outputs": [],
   "source": [
    "import numpy as np"
   ]
  },
  {
   "cell_type": "code",
   "execution_count": 3,
   "id": "ac46fd55",
   "metadata": {},
   "outputs": [],
   "source": [
    "import numpy.random as npr"
   ]
  },
  {
   "cell_type": "code",
   "execution_count": 16,
   "id": "96aaf4ee",
   "metadata": {},
   "outputs": [
    {
     "data": {
      "text/plain": [
       "700"
      ]
     },
     "execution_count": 16,
     "metadata": {},
     "output_type": "execute_result"
    }
   ],
   "source": [
    "npr.binomial(929,0.75)"
   ]
  },
  {
   "cell_type": "code",
   "execution_count": 19,
   "id": "8f2e2c61",
   "metadata": {},
   "outputs": [],
   "source": [
    "simulations = 5000\n",
    "for i in np.arange(simulations):\n",
    "    count_purple= npr.binomial(929, 0.75, simulations)"
   ]
  },
  {
   "cell_type": "code",
   "execution_count": 20,
   "id": "a4fb2704",
   "metadata": {},
   "outputs": [
    {
     "data": {
      "text/plain": [
       "array([697, 695, 711, 714])"
      ]
     },
     "execution_count": 20,
     "metadata": {},
     "output_type": "execute_result"
    }
   ],
   "source": [
    "count_purple[1:5]"
   ]
  },
  {
   "cell_type": "code",
   "execution_count": 21,
   "id": "de5bca1f",
   "metadata": {},
   "outputs": [],
   "source": [
    "%matplotlib inline"
   ]
  },
  {
   "cell_type": "code",
   "execution_count": 22,
   "id": "cbcc9a16",
   "metadata": {},
   "outputs": [],
   "source": [
    "import pandas as pd"
   ]
  },
  {
   "cell_type": "code",
   "execution_count": 23,
   "id": "91c5f35e",
   "metadata": {},
   "outputs": [],
   "source": [
    "df = pd.DataFrame(count_purple)"
   ]
  },
  {
   "cell_type": "code",
   "execution_count": 24,
   "id": "485ce122",
   "metadata": {},
   "outputs": [
    {
     "data": {
      "text/html": [
       "<div>\n",
       "<style scoped>\n",
       "    .dataframe tbody tr th:only-of-type {\n",
       "        vertical-align: middle;\n",
       "    }\n",
       "\n",
       "    .dataframe tbody tr th {\n",
       "        vertical-align: top;\n",
       "    }\n",
       "\n",
       "    .dataframe thead th {\n",
       "        text-align: right;\n",
       "    }\n",
       "</style>\n",
       "<table border=\"1\" class=\"dataframe\">\n",
       "  <thead>\n",
       "    <tr style=\"text-align: right;\">\n",
       "      <th></th>\n",
       "      <th>0</th>\n",
       "    </tr>\n",
       "  </thead>\n",
       "  <tbody>\n",
       "    <tr>\n",
       "      <th>0</th>\n",
       "      <td>725</td>\n",
       "    </tr>\n",
       "    <tr>\n",
       "      <th>1</th>\n",
       "      <td>697</td>\n",
       "    </tr>\n",
       "    <tr>\n",
       "      <th>2</th>\n",
       "      <td>695</td>\n",
       "    </tr>\n",
       "  </tbody>\n",
       "</table>\n",
       "</div>"
      ],
      "text/plain": [
       "     0\n",
       "0  725\n",
       "1  697\n",
       "2  695"
      ]
     },
     "execution_count": 24,
     "metadata": {},
     "output_type": "execute_result"
    }
   ],
   "source": [
    "df.head(3)"
   ]
  },
  {
   "cell_type": "code",
   "execution_count": 26,
   "id": "0d84c320",
   "metadata": {},
   "outputs": [],
   "source": [
    "import matplotlib.pyplot as plt"
   ]
  },
  {
   "cell_type": "code",
   "execution_count": 27,
   "id": "3f80872d",
   "metadata": {},
   "outputs": [
    {
     "data": {
      "text/plain": [
       "<matplotlib.collections.PathCollection at 0x2843d203b90>"
      ]
     },
     "execution_count": 27,
     "metadata": {},
     "output_type": "execute_result"
    },
    {
     "data": {
      "image/png": "[encoded data removed]",
      "text/plain": [
       "<Figure size 640x480 with 1 Axes>"
      ]
     },
     "metadata": {},
     "output_type": "display_data"
    }
   ],
   "source": [
    "df.hist()\n",
    "plt.title('Statistic');\n",
    "plt.xlabel('Count in a Random Sample %',fontsize=15)\n",
    "plt.ylabel('Unit',fontsize=15);\n",
    "plt.scatter(705, 0, color='red', s=30)"
   ]
  },
  {
   "cell_type": "markdown",
   "id": "491f53d6",
   "metadata": {},
   "source": [
    "Since the percentage of purple flower found lies in range of the distribution which can be clearly seen from the graph , hence we failed to reject the null hypothesis "
   ]
  },
  {
   "cell_type": "code",
   "execution_count": 46,
   "id": "b49ab388",
   "metadata": {},
   "outputs": [
    {
     "data": {
      "text/html": [
       "<div>\n",
       "<style scoped>\n",
       "    .dataframe tbody tr th:only-of-type {\n",
       "        vertical-align: middle;\n",
       "    }\n",
       "\n",
       "    .dataframe tbody tr th {\n",
       "        vertical-align: top;\n",
       "    }\n",
       "\n",
       "    .dataframe thead th {\n",
       "        text-align: right;\n",
       "    }\n",
       "</style>\n",
       "<table border=\"1\" class=\"dataframe\">\n",
       "  <thead>\n",
       "    <tr style=\"text-align: right;\">\n",
       "      <th></th>\n",
       "      <th>0</th>\n",
       "    </tr>\n",
       "  </thead>\n",
       "  <tbody>\n",
       "    <tr>\n",
       "      <th>1</th>\n",
       "      <td>697</td>\n",
       "    </tr>\n",
       "    <tr>\n",
       "      <th>2</th>\n",
       "      <td>695</td>\n",
       "    </tr>\n",
       "    <tr>\n",
       "      <th>5</th>\n",
       "      <td>673</td>\n",
       "    </tr>\n",
       "    <tr>\n",
       "      <th>7</th>\n",
       "      <td>683</td>\n",
       "    </tr>\n",
       "    <tr>\n",
       "      <th>10</th>\n",
       "      <td>697</td>\n",
       "    </tr>\n",
       "    <tr>\n",
       "      <th>...</th>\n",
       "      <td>...</td>\n",
       "    </tr>\n",
       "    <tr>\n",
       "      <th>4994</th>\n",
       "      <td>697</td>\n",
       "    </tr>\n",
       "    <tr>\n",
       "      <th>4995</th>\n",
       "      <td>701</td>\n",
       "    </tr>\n",
       "    <tr>\n",
       "      <th>4996</th>\n",
       "      <td>704</td>\n",
       "    </tr>\n",
       "    <tr>\n",
       "      <th>4997</th>\n",
       "      <td>699</td>\n",
       "    </tr>\n",
       "    <tr>\n",
       "      <th>4999</th>\n",
       "      <td>700</td>\n",
       "    </tr>\n",
       "  </tbody>\n",
       "</table>\n",
       "<p>3619 rows × 1 columns</p>\n",
       "</div>"
      ],
      "text/plain": [
       "        0\n",
       "1     697\n",
       "2     695\n",
       "5     673\n",
       "7     683\n",
       "10    697\n",
       "...   ...\n",
       "4994  697\n",
       "4995  701\n",
       "4996  704\n",
       "4997  699\n",
       "4999  700\n",
       "\n",
       "[3619 rows x 1 columns]"
      ]
     },
     "execution_count": 46,
     "metadata": {},
     "output_type": "execute_result"
    }
   ],
   "source": [
    "df[df[0]<705]"
   ]
  },
  {
   "cell_type": "markdown",
   "id": "d0bf4d5b",
   "metadata": {},
   "source": [
    "<b> P TEST </b>"
   ]
  },
  {
   "cell_type": "code",
   "execution_count": 41,
   "id": "4d6f6017",
   "metadata": {},
   "outputs": [
    {
     "data": {
      "text/plain": [
       "0.7238"
      ]
     },
     "execution_count": 41,
     "metadata": {},
     "output_type": "execute_result"
    }
   ],
   "source": [
    "(df[df[0]<705].shape[0])/5000"
   ]
  },
  {
   "cell_type": "markdown",
   "id": "948203b0",
   "metadata": {},
   "source": [
    "Here since p value >0.05 we failed to reject the null hypothesis"
   ]
  }
 ],
 "metadata": {
  "kernelspec": {
   "display_name": "Python 3 (ipykernel)",
   "language": "python",
   "name": "python3"
  },
  "language_info": {
   "codemirror_mode": {
    "name": "ipython",
    "version": 3
   },
   "file_extension": ".py",
   "mimetype": "text/x-python",
   "name": "python",
   "nbconvert_exporter": "python",
   "pygments_lexer": "ipython3",
   "version": "3.11.3"
  }
 },
 "nbformat": 4,
 "nbformat_minor": 5
}
